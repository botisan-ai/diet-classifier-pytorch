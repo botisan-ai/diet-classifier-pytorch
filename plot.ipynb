{
 "cells": [
  {
   "cell_type": "code",
   "execution_count": 4,
   "metadata": {},
   "outputs": [
    {
     "data": {
      "text/html": [
       "<pre style=\"white-space:pre;overflow-x:auto;line-height:normal;font-family:Menlo,'DejaVu Sans Mono',consolas,'Courier New',monospace\">╭────────────────────────────── Documents Summary ───────────────────────────────╮\n",
       "│                                                                                │\n",
       "│   Type                      DocumentArrayInMemory                              │\n",
       "│   Length                    <span style=\"color: #008080; text-decoration-color: #008080; font-weight: bold\">300</span>                                                │\n",
       "│   Homogenous Documents      <span style=\"color: #00ff00; text-decoration-color: #00ff00; font-style: italic\">True</span>                                               │\n",
       "│   Has nested Documents in   <span style=\"font-weight: bold\">(</span><span style=\"color: #008000; text-decoration-color: #008000\">'chunks'</span>, <span style=\"color: #008000; text-decoration-color: #008000\">'matches'</span><span style=\"font-weight: bold\">)</span>                              │\n",
       "│   Common Attributes         <span style=\"font-weight: bold\">(</span><span style=\"color: #008000; text-decoration-color: #008000\">'id'</span>, <span style=\"color: #008000; text-decoration-color: #008000\">'text'</span>, <span style=\"color: #008000; text-decoration-color: #008000\">'embedding'</span>, <span style=\"color: #008000; text-decoration-color: #008000\">'chunks'</span>, <span style=\"color: #008000; text-decoration-color: #008000\">'matches'</span><span style=\"font-weight: bold\">)</span>   │\n",
       "│   Multimodal dataclass      <span style=\"color: #ff0000; text-decoration-color: #ff0000; font-style: italic\">False</span>                                              │\n",
       "│                                                                                │\n",
       "╰────────────────────────────────────────────────────────────────────────────────╯\n",
       "╭──────────────────────── Attributes Summary ────────────────────────╮\n",
       "│                                                                    │\n",
       "│  <span style=\"font-weight: bold\"> Attribute </span> <span style=\"font-weight: bold\"> Data type       </span> <span style=\"font-weight: bold\"> #Unique values </span> <span style=\"font-weight: bold\"> Has empty value </span>  │\n",
       "│  ────────────────────────────────────────────────────────────────  │\n",
       "│   chunks      <span style=\"font-weight: bold\">(</span><span style=\"color: #008000; text-decoration-color: #008000\">'ChunkArray'</span>,<span style=\"font-weight: bold\">)</span>   <span style=\"color: #008080; text-decoration-color: #008080; font-weight: bold\">300</span>              <span style=\"color: #ff0000; text-decoration-color: #ff0000; font-style: italic\">False</span>             │\n",
       "│   embedding   <span style=\"font-weight: bold\">(</span><span style=\"color: #008000; text-decoration-color: #008000\">'ndarray'</span>,<span style=\"font-weight: bold\">)</span>      <span style=\"color: #008080; text-decoration-color: #008080; font-weight: bold\">300</span>              <span style=\"color: #ff0000; text-decoration-color: #ff0000; font-style: italic\">False</span>             │\n",
       "│   id          <span style=\"font-weight: bold\">(</span><span style=\"color: #008000; text-decoration-color: #008000\">'str'</span>,<span style=\"font-weight: bold\">)</span>          <span style=\"color: #008080; text-decoration-color: #008080; font-weight: bold\">300</span>              <span style=\"color: #ff0000; text-decoration-color: #ff0000; font-style: italic\">False</span>             │\n",
       "│   matches     <span style=\"font-weight: bold\">(</span><span style=\"color: #008000; text-decoration-color: #008000\">'MatchArray'</span>,<span style=\"font-weight: bold\">)</span>   <span style=\"color: #008080; text-decoration-color: #008080; font-weight: bold\">300</span>              <span style=\"color: #ff0000; text-decoration-color: #ff0000; font-style: italic\">False</span>             │\n",
       "│   text        <span style=\"font-weight: bold\">(</span><span style=\"color: #008000; text-decoration-color: #008000\">'str'</span>,<span style=\"font-weight: bold\">)</span>          <span style=\"color: #008080; text-decoration-color: #008080; font-weight: bold\">298</span>              <span style=\"color: #ff0000; text-decoration-color: #ff0000; font-style: italic\">False</span>             │\n",
       "│                                                                    │\n",
       "╰────────────────────────────────────────────────────────────────────╯\n",
       "</pre>\n"
      ],
      "text/plain": [
       "╭────────────────────────────── Documents Summary ───────────────────────────────╮\n",
       "│                                                                                │\n",
       "│   Type                      DocumentArrayInMemory                              │\n",
       "│   Length                    \u001b[1;36m300\u001b[0m                                                │\n",
       "│   Homogenous Documents      \u001b[3;92mTrue\u001b[0m                                               │\n",
       "│   Has nested Documents in   \u001b[1m(\u001b[0m\u001b[32m'chunks'\u001b[0m, \u001b[32m'matches'\u001b[0m\u001b[1m)\u001b[0m                              │\n",
       "│   Common Attributes         \u001b[1m(\u001b[0m\u001b[32m'id'\u001b[0m, \u001b[32m'text'\u001b[0m, \u001b[32m'embedding'\u001b[0m, \u001b[32m'chunks'\u001b[0m, \u001b[32m'matches'\u001b[0m\u001b[1m)\u001b[0m   │\n",
       "│   Multimodal dataclass      \u001b[3;91mFalse\u001b[0m                                              │\n",
       "│                                                                                │\n",
       "╰────────────────────────────────────────────────────────────────────────────────╯\n",
       "╭──────────────────────── Attributes Summary ────────────────────────╮\n",
       "│                                                                    │\n",
       "│  \u001b[1m \u001b[0m\u001b[1mAttribute\u001b[0m\u001b[1m \u001b[0m \u001b[1m \u001b[0m\u001b[1mData type      \u001b[0m\u001b[1m \u001b[0m \u001b[1m \u001b[0m\u001b[1m#Unique values\u001b[0m\u001b[1m \u001b[0m \u001b[1m \u001b[0m\u001b[1mHas empty value\u001b[0m\u001b[1m \u001b[0m  │\n",
       "│  ────────────────────────────────────────────────────────────────  │\n",
       "│   chunks      \u001b[1m(\u001b[0m\u001b[32m'ChunkArray'\u001b[0m,\u001b[1m)\u001b[0m   \u001b[1;36m300\u001b[0m              \u001b[3;91mFalse\u001b[0m             │\n",
       "│   embedding   \u001b[1m(\u001b[0m\u001b[32m'ndarray'\u001b[0m,\u001b[1m)\u001b[0m      \u001b[1;36m300\u001b[0m              \u001b[3;91mFalse\u001b[0m             │\n",
       "│   id          \u001b[1m(\u001b[0m\u001b[32m'str'\u001b[0m,\u001b[1m)\u001b[0m          \u001b[1;36m300\u001b[0m              \u001b[3;91mFalse\u001b[0m             │\n",
       "│   matches     \u001b[1m(\u001b[0m\u001b[32m'MatchArray'\u001b[0m,\u001b[1m)\u001b[0m   \u001b[1;36m300\u001b[0m              \u001b[3;91mFalse\u001b[0m             │\n",
       "│   text        \u001b[1m(\u001b[0m\u001b[32m'str'\u001b[0m,\u001b[1m)\u001b[0m          \u001b[1;36m298\u001b[0m              \u001b[3;91mFalse\u001b[0m             │\n",
       "│                                                                    │\n",
       "╰────────────────────────────────────────────────────────────────────╯\n"
      ]
     },
     "metadata": {},
     "output_type": "display_data"
    }
   ],
   "source": [
    "from docarray import Document, DocumentArray\n",
    "\n",
    "part1_docs = DocumentArray.load_binary('part-1-embeddings.bin', protocol='pickle-array', compress='gzip')\n",
    "part1_docs.summary()"
   ]
  },
  {
   "cell_type": "code",
   "execution_count": 5,
   "metadata": {},
   "outputs": [
    {
     "data": {
      "text/html": [
       "<pre style=\"white-space:pre;overflow-x:auto;line-height:normal;font-family:Menlo,'DejaVu Sans Mono',consolas,'Courier New',monospace\">╭────────────────────────────── Documents Summary ───────────────────────────────╮\n",
       "│                                                                                │\n",
       "│   Type                      DocumentArrayInMemory                              │\n",
       "│   Length                    <span style=\"color: #008080; text-decoration-color: #008080; font-weight: bold\">300</span>                                                │\n",
       "│   Homogenous Documents      <span style=\"color: #00ff00; text-decoration-color: #00ff00; font-style: italic\">True</span>                                               │\n",
       "│   Has nested Documents in   <span style=\"font-weight: bold\">(</span><span style=\"color: #008000; text-decoration-color: #008000\">'chunks'</span>, <span style=\"color: #008000; text-decoration-color: #008000\">'matches'</span><span style=\"font-weight: bold\">)</span>                              │\n",
       "│   Common Attributes         <span style=\"font-weight: bold\">(</span><span style=\"color: #008000; text-decoration-color: #008000\">'id'</span>, <span style=\"color: #008000; text-decoration-color: #008000\">'text'</span>, <span style=\"color: #008000; text-decoration-color: #008000\">'embedding'</span>, <span style=\"color: #008000; text-decoration-color: #008000\">'chunks'</span>, <span style=\"color: #008000; text-decoration-color: #008000\">'matches'</span><span style=\"font-weight: bold\">)</span>   │\n",
       "│   Multimodal dataclass      <span style=\"color: #ff0000; text-decoration-color: #ff0000; font-style: italic\">False</span>                                              │\n",
       "│                                                                                │\n",
       "╰────────────────────────────────────────────────────────────────────────────────╯\n",
       "╭──────────────────────── Attributes Summary ────────────────────────╮\n",
       "│                                                                    │\n",
       "│  <span style=\"font-weight: bold\"> Attribute </span> <span style=\"font-weight: bold\"> Data type       </span> <span style=\"font-weight: bold\"> #Unique values </span> <span style=\"font-weight: bold\"> Has empty value </span>  │\n",
       "│  ────────────────────────────────────────────────────────────────  │\n",
       "│   chunks      <span style=\"font-weight: bold\">(</span><span style=\"color: #008000; text-decoration-color: #008000\">'ChunkArray'</span>,<span style=\"font-weight: bold\">)</span>   <span style=\"color: #008080; text-decoration-color: #008080; font-weight: bold\">300</span>              <span style=\"color: #ff0000; text-decoration-color: #ff0000; font-style: italic\">False</span>             │\n",
       "│   embedding   <span style=\"font-weight: bold\">(</span><span style=\"color: #008000; text-decoration-color: #008000\">'ndarray'</span>,<span style=\"font-weight: bold\">)</span>      <span style=\"color: #008080; text-decoration-color: #008080; font-weight: bold\">300</span>              <span style=\"color: #ff0000; text-decoration-color: #ff0000; font-style: italic\">False</span>             │\n",
       "│   id          <span style=\"font-weight: bold\">(</span><span style=\"color: #008000; text-decoration-color: #008000\">'str'</span>,<span style=\"font-weight: bold\">)</span>          <span style=\"color: #008080; text-decoration-color: #008080; font-weight: bold\">300</span>              <span style=\"color: #ff0000; text-decoration-color: #ff0000; font-style: italic\">False</span>             │\n",
       "│   matches     <span style=\"font-weight: bold\">(</span><span style=\"color: #008000; text-decoration-color: #008000\">'MatchArray'</span>,<span style=\"font-weight: bold\">)</span>   <span style=\"color: #008080; text-decoration-color: #008080; font-weight: bold\">300</span>              <span style=\"color: #ff0000; text-decoration-color: #ff0000; font-style: italic\">False</span>             │\n",
       "│   text        <span style=\"font-weight: bold\">(</span><span style=\"color: #008000; text-decoration-color: #008000\">'str'</span>,<span style=\"font-weight: bold\">)</span>          <span style=\"color: #008080; text-decoration-color: #008080; font-weight: bold\">298</span>              <span style=\"color: #ff0000; text-decoration-color: #ff0000; font-style: italic\">False</span>             │\n",
       "│                                                                    │\n",
       "╰────────────────────────────────────────────────────────────────────╯\n",
       "</pre>\n"
      ],
      "text/plain": [
       "╭────────────────────────────── Documents Summary ───────────────────────────────╮\n",
       "│                                                                                │\n",
       "│   Type                      DocumentArrayInMemory                              │\n",
       "│   Length                    \u001b[1;36m300\u001b[0m                                                │\n",
       "│   Homogenous Documents      \u001b[3;92mTrue\u001b[0m                                               │\n",
       "│   Has nested Documents in   \u001b[1m(\u001b[0m\u001b[32m'chunks'\u001b[0m, \u001b[32m'matches'\u001b[0m\u001b[1m)\u001b[0m                              │\n",
       "│   Common Attributes         \u001b[1m(\u001b[0m\u001b[32m'id'\u001b[0m, \u001b[32m'text'\u001b[0m, \u001b[32m'embedding'\u001b[0m, \u001b[32m'chunks'\u001b[0m, \u001b[32m'matches'\u001b[0m\u001b[1m)\u001b[0m   │\n",
       "│   Multimodal dataclass      \u001b[3;91mFalse\u001b[0m                                              │\n",
       "│                                                                                │\n",
       "╰────────────────────────────────────────────────────────────────────────────────╯\n",
       "╭──────────────────────── Attributes Summary ────────────────────────╮\n",
       "│                                                                    │\n",
       "│  \u001b[1m \u001b[0m\u001b[1mAttribute\u001b[0m\u001b[1m \u001b[0m \u001b[1m \u001b[0m\u001b[1mData type      \u001b[0m\u001b[1m \u001b[0m \u001b[1m \u001b[0m\u001b[1m#Unique values\u001b[0m\u001b[1m \u001b[0m \u001b[1m \u001b[0m\u001b[1mHas empty value\u001b[0m\u001b[1m \u001b[0m  │\n",
       "│  ────────────────────────────────────────────────────────────────  │\n",
       "│   chunks      \u001b[1m(\u001b[0m\u001b[32m'ChunkArray'\u001b[0m,\u001b[1m)\u001b[0m   \u001b[1;36m300\u001b[0m              \u001b[3;91mFalse\u001b[0m             │\n",
       "│   embedding   \u001b[1m(\u001b[0m\u001b[32m'ndarray'\u001b[0m,\u001b[1m)\u001b[0m      \u001b[1;36m300\u001b[0m              \u001b[3;91mFalse\u001b[0m             │\n",
       "│   id          \u001b[1m(\u001b[0m\u001b[32m'str'\u001b[0m,\u001b[1m)\u001b[0m          \u001b[1;36m300\u001b[0m              \u001b[3;91mFalse\u001b[0m             │\n",
       "│   matches     \u001b[1m(\u001b[0m\u001b[32m'MatchArray'\u001b[0m,\u001b[1m)\u001b[0m   \u001b[1;36m300\u001b[0m              \u001b[3;91mFalse\u001b[0m             │\n",
       "│   text        \u001b[1m(\u001b[0m\u001b[32m'str'\u001b[0m,\u001b[1m)\u001b[0m          \u001b[1;36m298\u001b[0m              \u001b[3;91mFalse\u001b[0m             │\n",
       "│                                                                    │\n",
       "╰────────────────────────────────────────────────────────────────────╯\n"
      ]
     },
     "metadata": {},
     "output_type": "display_data"
    }
   ],
   "source": [
    "part2_docs = DocumentArray.load_binary('part-2-embeddings.bin', protocol='pickle-array', compress='gzip')\n",
    "part2_docs.summary()"
   ]
  }
 ],
 "metadata": {
  "kernelspec": {
   "display_name": "Python 3.9.9 ('diet-classifier-pytorch-tuzCfIY6')",
   "language": "python",
   "name": "python3"
  },
  "language_info": {
   "codemirror_mode": {
    "name": "ipython",
    "version": 3
   },
   "file_extension": ".py",
   "mimetype": "text/x-python",
   "name": "python",
   "nbconvert_exporter": "python",
   "pygments_lexer": "ipython3",
   "version": "3.9.9"
  },
  "orig_nbformat": 4,
  "vscode": {
   "interpreter": {
    "hash": "c6b3fa2d15867b016735a8a6add5b891e792f5db4033aea0c879e6fb7d489c15"
   }
  }
 },
 "nbformat": 4,
 "nbformat_minor": 2
}
